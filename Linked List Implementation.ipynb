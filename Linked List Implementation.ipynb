{
 "cells": [
  {
   "cell_type": "code",
   "execution_count": 38,
   "metadata": {},
   "outputs": [],
   "source": [
    "class Node:\n",
    "    def __init__(self,data):\n",
    "        self.data = data\n",
    "        self.next = None\n",
    "    \n",
    "class LinkedList:\n",
    "    def __init__(self):\n",
    "        self.start=None\n",
    "        \n",
    "    def deleteFirst(self):\n",
    "        if self.start == None:\n",
    "            print('Linked List is empty')\n",
    "        else:\n",
    "            self.start =self.start.next\n",
    "                       \n",
    "    def insertLast(self,data):\n",
    "        newNode = Node(data)\n",
    "        if self.start ==None:\n",
    "            self.start =newNode\n",
    "        else:\n",
    "            temp = self.start\n",
    "            while temp.next!=None:\n",
    "                temp =temp.next\n",
    "            temp.next = newNode\n",
    "            \n",
    "    def viewList(self):\n",
    "        if self.start == None:\n",
    "            print(\"List is empty\")\n",
    "        else:\n",
    "            temp = self.start\n",
    "            while temp!= None:\n",
    "                print(temp.data,end=' ')\n",
    "                temp = temp.next\n",
    "                \n",
    "    def deleteduplicate(self):\n",
    "        if self.start == None:\n",
    "            print('List is empty')\n",
    "        else:\n",
    "            temp = self.start\n",
    "            while(temp.next!=None):\n",
    "                if temp.data == temp.next.data:\n",
    "                    temp.next = temp.next.next\n",
    "                else:\n",
    "                    temp = temp.next\n",
    "                \n",
    "        "
   ]
  },
  {
   "cell_type": "code",
   "execution_count": 39,
   "metadata": {},
   "outputs": [
    {
     "name": "stdout",
     "output_type": "stream",
     "text": [
      "10 20 30 30 30 60 70 \n",
      "20 30 30 30 60 70 \n",
      "20 30 60 70 "
     ]
    }
   ],
   "source": [
    "mylist = LinkedList()\n",
    "\n",
    "mylist.insertLast(10)\n",
    "mylist.insertLast(20)\n",
    "mylist.insertLast(30)\n",
    "mylist.insertLast(30)\n",
    "mylist.insertLast(30)\n",
    "mylist.insertLast(60)\n",
    "mylist.insertLast(70)\n",
    "\n",
    "mylist.viewList()\n",
    "\n",
    "mylist.deleteFirst()\n",
    "print()\n",
    "mylist.viewList()\n",
    "\n",
    "mylist.deleteduplicate()\n",
    "\n",
    "print()\n",
    "mylist.viewList()"
   ]
  },
  {
   "cell_type": "code",
   "execution_count": null,
   "metadata": {},
   "outputs": [],
   "source": []
  }
 ],
 "metadata": {
  "kernelspec": {
   "display_name": "Python 3",
   "language": "python",
   "name": "python3"
  },
  "language_info": {
   "codemirror_mode": {
    "name": "ipython",
    "version": 3
   },
   "file_extension": ".py",
   "mimetype": "text/x-python",
   "name": "python",
   "nbconvert_exporter": "python",
   "pygments_lexer": "ipython3",
   "version": "3.8.5"
  }
 },
 "nbformat": 4,
 "nbformat_minor": 4
}
