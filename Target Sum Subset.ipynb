{
 "cells": [
  {
   "cell_type": "markdown",
   "metadata": {},
   "source": [
    "## Target Sum Subset Problem\n"
   ]
  },
  {
   "cell_type": "markdown",
   "metadata": {},
   "source": [
    "### Approach 1"
   ]
  },
  {
   "cell_type": "code",
   "execution_count": 2,
   "metadata": {},
   "outputs": [
    {
     "name": "stdout",
     "output_type": "stream",
     "text": [
      "False\n"
     ]
    }
   ],
   "source": [
    "l1 = [8,2,4,5]\n",
    "n= len(l1)\n",
    "tar = 45\n",
    "dp = ([[False for i in range(tar + 1)]for i in range(n + 1)])\n",
    "\n",
    "for i in range(n + 1):\n",
    "        dp[i][0] = True\n",
    "         \n",
    "for i in range(1, tar + 1):\n",
    "         dp[0][i]= False\n",
    "        \n",
    "for i in range (1,n+1):\n",
    "    for j in range (1, tar+1):\n",
    "        if j<l1[i-1]:\n",
    "            dp[i][j]=dp[i-1][j]\n",
    "        else:\n",
    "            dp[i][j] = dp[i-1][j] or dp[i-1][j-l1[i-1]]\n",
    "print(dp[n][tar])"
   ]
  },
  {
   "cell_type": "code",
   "execution_count": null,
   "metadata": {},
   "outputs": [],
   "source": []
  }
 ],
 "metadata": {
  "kernelspec": {
   "display_name": "Python 3",
   "language": "python",
   "name": "python3"
  },
  "language_info": {
   "codemirror_mode": {
    "name": "ipython",
    "version": 3
   },
   "file_extension": ".py",
   "mimetype": "text/x-python",
   "name": "python",
   "nbconvert_exporter": "python",
   "pygments_lexer": "ipython3",
   "version": "3.8.5"
  }
 },
 "nbformat": 4,
 "nbformat_minor": 4
}
