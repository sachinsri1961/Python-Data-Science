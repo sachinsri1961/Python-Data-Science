{
 "cells": [
  {
   "cell_type": "markdown",
   "metadata": {},
   "source": [
    "### Merge Sorted Array nums1 and nums2.  Zeros in nums1 are there to accomodate nums2"
   ]
  },
  {
   "cell_type": "code",
   "execution_count": 1,
   "metadata": {},
   "outputs": [
    {
     "name": "stdout",
     "output_type": "stream",
     "text": [
      "[1, 2, 3, 5, 6, 7]\n"
     ]
    }
   ],
   "source": [
    "nums1 = [5,6,7,0,0,0]\n",
    "m = 3\n",
    "nums2 = [1,2,3]\n",
    "n=3\n",
    "\n",
    "last = m+n-1\n",
    "\n",
    "while (m>0 and n>0):\n",
    "    if nums1[m-1] > nums2[n-1]:\n",
    "        nums1[last] = nums1[m-1]\n",
    "        m=m-1\n",
    "    else:\n",
    "        nums1[last] = nums2[n-1]\n",
    "        n= n-1\n",
    "    last = last -1\n",
    "    \n",
    "while(n>0):\n",
    "    nums1[last] = nums2[n-1]\n",
    "    n=n-1\n",
    "    last =last-1\n",
    "\n",
    "\n",
    "print(nums1);"
   ]
  },
  {
   "cell_type": "code",
   "execution_count": null,
   "metadata": {},
   "outputs": [],
   "source": []
  }
 ],
 "metadata": {
  "kernelspec": {
   "display_name": "Python 3",
   "language": "python",
   "name": "python3"
  },
  "language_info": {
   "codemirror_mode": {
    "name": "ipython",
    "version": 3
   },
   "file_extension": ".py",
   "mimetype": "text/x-python",
   "name": "python",
   "nbconvert_exporter": "python",
   "pygments_lexer": "ipython3",
   "version": "3.8.5"
  }
 },
 "nbformat": 4,
 "nbformat_minor": 4
}
