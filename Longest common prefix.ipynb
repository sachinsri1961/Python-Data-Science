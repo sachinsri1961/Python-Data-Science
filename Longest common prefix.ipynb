{
 "cells": [
  {
   "cell_type": "markdown",
   "metadata": {},
   "source": [
    "### Longest common prefix string"
   ]
  },
  {
   "cell_type": "code",
   "execution_count": 2,
   "metadata": {},
   "outputs": [
    {
     "name": "stdout",
     "output_type": "stream",
     "text": [
      "r\n"
     ]
    }
   ],
   "source": [
    "strs = [\"race\",\"racoon\",\"rm\"]\n",
    "\n",
    "def lcp(strs):\n",
    "    prefix = ''\n",
    "\n",
    "    for i in range (len(strs[0])):\n",
    "        for j in range (1,len(strs)):\n",
    "            if (i == len(strs[j])) or strs[0][i] != strs[j][i]:\n",
    "                return prefix\n",
    "        prefix = prefix+strs[0][i]\n",
    "    return prefix\n",
    "\n",
    "print(lcp(strs))"
   ]
  },
  {
   "cell_type": "code",
   "execution_count": null,
   "metadata": {},
   "outputs": [],
   "source": []
  }
 ],
 "metadata": {
  "kernelspec": {
   "display_name": "Python 3",
   "language": "python",
   "name": "python3"
  },
  "language_info": {
   "codemirror_mode": {
    "name": "ipython",
    "version": 3
   },
   "file_extension": ".py",
   "mimetype": "text/x-python",
   "name": "python",
   "nbconvert_exporter": "python",
   "pygments_lexer": "ipython3",
   "version": "3.8.5"
  }
 },
 "nbformat": 4,
 "nbformat_minor": 4
}
