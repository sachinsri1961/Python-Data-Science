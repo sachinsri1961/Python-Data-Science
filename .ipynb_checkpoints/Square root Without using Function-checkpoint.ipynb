{
 "cells": [
  {
   "cell_type": "code",
   "execution_count": null,
   "metadata": {},
   "outputs": [],
   "source": [
    "num = 37\n",
    "\n",
    "low = 1\n",
    "high =num\n",
    "\n",
    "mid =0\n",
    "\n",
    "res=0\n",
    "\n",
    "\n",
    "\n",
    "while(low<=high):\n",
    "    mid = (low + high)//2\n",
    "    if (mid*mid==num):\n",
    "        res = mid\n",
    "        break\n",
    "    elif(mid*mid>num):\n",
    "        high = mid - 1\n",
    "    else:\n",
    "        res = mid\n",
    "        low = mid+1\n",
    "    \n",
    "print(res)\n",
    "    "
   ]
  }
 ],
 "metadata": {
  "kernelspec": {
   "display_name": "Python 3",
   "language": "python",
   "name": "python3"
  },
  "language_info": {
   "codemirror_mode": {
    "name": "ipython",
    "version": 3
   },
   "file_extension": ".py",
   "mimetype": "text/x-python",
   "name": "python",
   "nbconvert_exporter": "python",
   "pygments_lexer": "ipython3",
   "version": "3.8.5"
  }
 },
 "nbformat": 4,
 "nbformat_minor": 4
}
