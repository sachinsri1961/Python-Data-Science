{
 "cells": [
  {
   "cell_type": "markdown",
   "metadata": {},
   "source": [
    "## Balanced Parenthesis"
   ]
  },
  {
   "cell_type": "code",
   "execution_count": 1,
   "metadata": {},
   "outputs": [
    {
     "name": "stdout",
     "output_type": "stream",
     "text": [
      "((\n",
      "False\n"
     ]
    }
   ],
   "source": [
    "def parenthesis(strs):\n",
    "    b_dict =[]\n",
    "\n",
    "    for i in strs:\n",
    "        if i in '({[':\n",
    "            b_dict.append(i)\n",
    "        else:\n",
    "            if len(b_dict)==0:\n",
    "                return False\n",
    "            elif ( (i==')' and b_dict[-1]=='(') or (i=='}' and b_dict[-1]=='{') or (i==']' and b_dict[-1]=='[') ):\n",
    "                b_dict.pop()\n",
    "            else:\n",
    "                return False\n",
    "    if b_dict:\n",
    "        return False\n",
    "    else:\n",
    "        return True\n",
    "\n",
    "print(parenthesis(input()))\n"
   ]
  },
  {
   "cell_type": "code",
   "execution_count": null,
   "metadata": {},
   "outputs": [],
   "source": []
  }
 ],
 "metadata": {
  "kernelspec": {
   "display_name": "Python 3",
   "language": "python",
   "name": "python3"
  },
  "language_info": {
   "codemirror_mode": {
    "name": "ipython",
    "version": 3
   },
   "file_extension": ".py",
   "mimetype": "text/x-python",
   "name": "python",
   "nbconvert_exporter": "python",
   "pygments_lexer": "ipython3",
   "version": "3.8.5"
  }
 },
 "nbformat": 4,
 "nbformat_minor": 4
}
